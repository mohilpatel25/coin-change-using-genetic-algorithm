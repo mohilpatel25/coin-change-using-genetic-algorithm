{
  "nbformat": 4,
  "nbformat_minor": 0,
  "metadata": {
    "colab": {
      "name": "Coin Change using GA",
      "provenance": [],
      "collapsed_sections": []
    },
    "kernelspec": {
      "name": "python3",
      "display_name": "Python 3"
    }
  },
  "cells": [
    {
      "cell_type": "code",
      "metadata": {
        "id": "T6sykxAXrH1d",
        "colab_type": "code",
        "colab": {}
      },
      "source": [
        "import random\n",
        "import numpy as np\n",
        "import pandas as pd\n",
        "\n",
        "import warnings\n",
        "warnings.filterwarnings('ignore')"
      ],
      "execution_count": 4,
      "outputs": []
    },
    {
      "cell_type": "code",
      "metadata": {
        "id": "njWh5go_rM5y",
        "colab_type": "code",
        "colab": {
          "base_uri": "https://localhost:8080/",
          "height": 210
        },
        "outputId": "5a53d80e-fad3-4c9e-b131-bb5d6159be60"
      },
      "source": [
        "d=[1,2,3,4,5,6,7,8,'Fitness'] #denominations\n",
        "N=50  #total amount\n",
        "size=10 #population size\n",
        "\n",
        "#population generation\n",
        "population=[]\n",
        "for i in range(size):\n",
        "  c=[]\n",
        "  for j in range (len(d)):\n",
        "    c.append(random.randint(0,N))\n",
        "  population.append(c)\n",
        "\n",
        "population=pd.DataFrame(population,columns=d)\n",
        "population=population.astype({'Fitness':float}) \n",
        "for i in range(size):\n",
        "    fitness=0\n",
        "    for j in range(len(d)-1):\n",
        "      fitness+=population[d[j]][i]*d[j]\n",
        "\n",
        "    fitness=abs(fitness-N)\n",
        "    population['Fitness'][i]=1/(1+float(fitness))\n",
        "#print(population)\n",
        "pop=population.copy()\n",
        "pop['Fitness']=round(pop['Fitness'],4 )\n",
        "print(pop)"
      ],
      "execution_count": 5,
      "outputs": [
        {
          "output_type": "stream",
          "text": [
            "    1   2   3   4   5   6   7   8  Fitness\n",
            "0  30  32  35   8  32  45  41   6   0.0011\n",
            "1  44  19  30  25   4  37  23  48   0.0010\n",
            "2  48  11   9  50  45  14  45   2   0.0011\n",
            "3   6  13  31   6  45  41  17  43   0.0010\n",
            "4  40  46   7  30  12  41  41   2   0.0012\n",
            "5  45   6  32  19  31   3   4   8   0.0022\n",
            "6  29  25  43   4   0  14  33  17   0.0016\n",
            "7  39   8  23  41   1  41  43  21   0.0010\n",
            "8  42  14  48  32  49  20  36   8   0.0010\n",
            "9   6  39   8  10  22  13  10   1   0.0027\n"
          ],
          "name": "stdout"
        }
      ]
    },
    {
      "cell_type": "code",
      "metadata": {
        "id": "-6ZVZCLWsTey",
        "colab_type": "code",
        "colab": {
          "base_uri": "https://localhost:8080/",
          "height": 87
        },
        "outputId": "88f71324-7fc8-4ff5-c980-cc31572b8c69"
      },
      "source": [
        "#genetic algorithm\n",
        "cnt=1\n",
        "while(True):\n",
        "  for i in range(size):\n",
        "    fitness=0\n",
        "    for j in range(len(d)-1):\n",
        "      fitness+=population[d[j]][i]*d[j]\n",
        "\n",
        "    fitness=abs(fitness-N)\n",
        "    population['Fitness'][i]=1/(1+float(fitness))\n",
        "\n",
        "  population=population.sort_values(by=['Fitness'])\n",
        "  \n",
        "  parents=population[-6:].reset_index()\n",
        "  offspring=population[:3].reset_index()\n",
        "\n",
        "  #crossover\n",
        "  for i in range(3):\n",
        "    r=random.randint(0,len(d)-1)\n",
        "    for j in range(len(d)-1):\n",
        "      if(j<r):\n",
        "        offspring[d[j]][i]=parents[d[j]][i]\n",
        "      else:\n",
        "        offspring[d[j]][i]=parents[d[j]][6-i-1]\n",
        "  \n",
        "  #mutation\n",
        "  mutation_p=0.75 #mutation probability\n",
        "  for i in range(3):\n",
        "    for j in range(len(d)-1):\n",
        "      p=random.random()\n",
        "      if(p>mutation_p):\n",
        "        offspring[d[j]][i]=random.randint(0,N)\n",
        "  population=population[3:]\n",
        "  population=population.append(offspring, ignore_index=True)\n",
        "  population=population.drop(['index'],axis=1)\n",
        "\n",
        "  pop=population.copy().sort_values(by=['Fitness']).reset_index()\n",
        "  pop['Fitness']=round(pop['Fitness'],4)\n",
        "  pop=pop.drop(['index'],axis=1)\n",
        "  \n",
        "  if(max(population['Fitness'])==1):\n",
        "    break\n",
        "\n",
        "  if(cnt%100==0):\n",
        "    print(max(population['Fitness']))\n",
        "  cnt+=1\n",
        "\n",
        "population=population.sort_values(by=['Fitness']).reset_index()\n",
        "population=population[-1:]\n",
        "print(population)"
      ],
      "execution_count": 6,
      "outputs": [
        {
          "output_type": "stream",
          "text": [
            "0.01694915254237288\n",
            "0.047619047619047616\n",
            "   index  1  2  3  4  5  6  7  8  Fitness\n",
            "9      6  0  1  1  3  0  3  1  1      1.0\n"
          ],
          "name": "stdout"
        }
      ]
    }
  ]
}