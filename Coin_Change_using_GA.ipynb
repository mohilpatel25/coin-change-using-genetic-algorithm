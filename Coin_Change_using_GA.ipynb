{
  "nbformat": 4,
  "nbformat_minor": 0,
  "metadata": {
    "colab": {
      "name": "Coin Change using GA",
      "provenance": [],
      "collapsed_sections": []
    },
    "kernelspec": {
      "name": "python3",
      "display_name": "Python 3"
    }
  },
  "cells": [
    {
      "cell_type": "code",
      "metadata": {
        "id": "T6sykxAXrH1d",
        "colab_type": "code",
        "colab": {}
      },
      "source": [
        "import random\n",
        "import numpy as np\n",
        "import pandas as pd\n",
        "\n",
        "import warnings\n",
        "warnings.filterwarnings('ignore')"
      ],
      "execution_count": 0,
      "outputs": []
    },
    {
      "cell_type": "code",
      "metadata": {
        "id": "njWh5go_rM5y",
        "colab_type": "code",
        "outputId": "acb5fd20-159b-4ed6-ca4f-dcd8d939d9af",
        "colab": {
          "base_uri": "https://localhost:8080/",
          "height": 246
        }
      },
      "source": [
        "d=[1,2,3,4,5,6,7,8,'Fitness'] #denominations\n",
        "N=50  #total amount\n",
        "size=12 #population size\n",
        "\n",
        "#population generation\n",
        "population=[]\n",
        "for i in range(size):\n",
        "  c=[]\n",
        "  for j in range (len(d)):\n",
        "    c.append(random.randint(0,N))\n",
        "  population.append(c)\n",
        "\n",
        "population=pd.DataFrame(population,columns=d)\n",
        "population=population.astype({'Fitness':float}) \n",
        "print(population)"
      ],
      "execution_count": 213,
      "outputs": [
        {
          "output_type": "stream",
          "text": [
            "     1   2   3   4   5   6   7   8  Fitness\n",
            "0    2  36   9   9  37  10   8  50      2.0\n",
            "1   20   4  36   3  22   5  21  38     19.0\n",
            "2   33  47  35  33  13   5  41   3     28.0\n",
            "3   40  10   0  34   3  23  15  32      1.0\n",
            "4   44  48  17  26  22  20   8  21     43.0\n",
            "5   28  13  46   3  21   3  13  35     18.0\n",
            "6    3  50   1  30   7  41  45  37     45.0\n",
            "7   33  30  20   9  50  45  10  12     39.0\n",
            "8   21  49  10  31   6  46  20  29     28.0\n",
            "9   32  44  45   9  45  41  26  18     10.0\n",
            "10  34  49  14   0  34   6  20   6     35.0\n",
            "11  17  23  20  37   7  40  42  33     46.0\n"
          ],
          "name": "stdout"
        }
      ]
    },
    {
      "cell_type": "code",
      "metadata": {
        "id": "-6ZVZCLWsTey",
        "colab_type": "code",
        "outputId": "7cda1333-3080-43a3-c26f-dbadf771adb0",
        "colab": {
          "base_uri": "https://localhost:8080/",
          "height": 122
        }
      },
      "source": [
        "#genetic algorithm\n",
        "cnt=0\n",
        "while(True):\n",
        "  for i in range(size):\n",
        "    fitness=0\n",
        "    for j in range(len(d)-1):\n",
        "      fitness+=population[d[j]][i]*d[j]\n",
        "\n",
        "    fitness=abs(fitness-N)\n",
        "    population['Fitness'][i]=1/(1+float(fitness))\n",
        "\n",
        "  population=population.sort_values(by=['Fitness'])\n",
        "  \n",
        "  parents=population[-6:].reset_index()\n",
        "  offspring=population[:3].reset_index()\n",
        "\n",
        "  #crossover\n",
        "  for i in range(3):\n",
        "    r=random.randint(0,len(d)-1)\n",
        "    for j in range(len(d)-1):\n",
        "      if(j<r):\n",
        "        offspring[d[j]][i]=parents[d[j]][i]\n",
        "      else:\n",
        "        offspring[d[j]][i]=parents[d[j]][6-i-1]\n",
        "  \n",
        "  #mutation\n",
        "  for i in range(3):\n",
        "    for j in range(len(d)-1):\n",
        "      p=random.random()\n",
        "      if(p>0.75):\n",
        "        offspring[d[j]][i]=random.randint(0,N)\n",
        "  population=population[3:]\n",
        "  population=population.append(offspring, ignore_index=True)\n",
        "  population=population.drop(['index'],axis=1)\n",
        "\n",
        "  if(max(population['Fitness'])==1):\n",
        "    break\n",
        "\n",
        "  if(cnt%100==0):\n",
        "    print(max(population['Fitness']))\n",
        "  cnt+=1\n",
        "\n",
        "population=population.sort_values(by=['Fitness']).reset_index()\n",
        "population=population[-1:]\n",
        "print(population)\n"
      ],
      "execution_count": 214,
      "outputs": [
        {
          "output_type": "stream",
          "text": [
            "0.0019267822736030828\n",
            "0.016129032258064516\n",
            "0.2\n",
            "0.5\n",
            "    index  1  2  3  4  5  6  7  8  Fitness\n",
            "11      8  3  4  0  0  2  1  1  2      1.0\n"
          ],
          "name": "stdout"
        }
      ]
    }
  ]
}