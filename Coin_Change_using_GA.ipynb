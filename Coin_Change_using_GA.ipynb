{
  "nbformat": 4,
  "nbformat_minor": 0,
  "metadata": {
    "colab": {
      "name": "Coin Change using GA",
      "provenance": [],
      "collapsed_sections": []
    },
    "kernelspec": {
      "name": "python3",
      "display_name": "Python 3"
    }
  },
  "cells": [
    {
      "cell_type": "code",
      "metadata": {
        "id": "T6sykxAXrH1d",
        "colab_type": "code",
        "colab": {}
      },
      "source": [
        "import random\n",
        "import numpy as np\n",
        "import pandas as pd\n",
        "\n",
        "import warnings\n",
        "warnings.filterwarnings('ignore')"
      ],
      "execution_count": 0,
      "outputs": []
    },
    {
      "cell_type": "code",
      "metadata": {
        "id": "njWh5go_rM5y",
        "colab_type": "code",
        "colab": {
          "base_uri": "https://localhost:8080/",
          "height": 210
        },
        "outputId": "5a53d80e-fad3-4c9e-b131-bb5d6159be60"
      },
      "source": [
        "d=[1,2,3,4,5,6,7,8,'Fitness'] #denominations\n",
        "N=50  #total amount\n",
        "size=10 #population size\n",
        "\n",
        "#population generation\n",
        "population=[]\n",
        "for i in range(size):\n",
        "  c=[]\n",
        "  for j in range (len(d)):\n",
        "    c.append(random.randint(0,N))\n",
        "  population.append(c)\n",
        "\n",
        "population=pd.DataFrame(population,columns=d)\n",
        "population=population.astype({'Fitness':float}) \n",
        "for i in range(size):\n",
        "    fitness=0\n",
        "    for j in range(len(d)-1):\n",
        "      fitness+=population[d[j]][i]*d[j]\n",
        "\n",
        "    fitness=abs(fitness-N)\n",
        "    population['Fitness'][i]=1/(1+float(fitness))\n",
        "#print(population)\n",
        "pop=population.copy()\n",
        "pop['Fitness']=round(pop['Fitness'],4 )\n",
        "print(pop)"
      ],
      "execution_count": 0,
      "outputs": []
    },
    {
      "cell_type": "code",
      "metadata": {
        "id": "-6ZVZCLWsTey",
        "colab_type": "code",
        "colab": {
          "base_uri": "https://localhost:8080/",
          "height": 87
        },
        "outputId": "88f71324-7fc8-4ff5-c980-cc31572b8c69"
      },
      "source": [
        "#genetic algorithm\n",
        "cnt=1\n",
        "while(True):\n",
        "  for i in range(size):\n",
        "    fitness=0\n",
        "    for j in range(len(d)-1):\n",
        "      fitness+=population[d[j]][i]*d[j]\n",
        "\n",
        "    fitness=abs(fitness-N)\n",
        "    population['Fitness'][i]=1/(1+float(fitness))\n",
        "\n",
        "  population=population.sort_values(by=['Fitness'])\n",
        "  \n",
        "  parents=population[-6:].reset_index()\n",
        "  offspring=population[:3].reset_index()\n",
        "\n",
        "  #crossover\n",
        "  for i in range(3):\n",
        "    r=random.randint(0,len(d)-1)\n",
        "    for j in range(len(d)-1):\n",
        "      if(j<r):\n",
        "        offspring[d[j]][i]=parents[d[j]][i]\n",
        "      else:\n",
        "        offspring[d[j]][i]=parents[d[j]][6-i-1]\n",
        "  \n",
        "  #mutation\n",
        "  mutation_p=0.75 #mutation probability\n",
        "  for i in range(3):\n",
        "    for j in range(len(d)-1):\n",
        "      p=random.random()\n",
        "      if(p>mutation_p):\n",
        "        offspring[d[j]][i]=random.randint(0,N)\n",
        "  population=population[3:]\n",
        "  population=population.append(offspring, ignore_index=True)\n",
        "  population=population.drop(['index'],axis=1)\n",
        "\n",
        "  pop=population.copy().sort_values(by=['Fitness']).reset_index()\n",
        "  pop['Fitness']=round(pop['Fitness'],4)\n",
        "  pop=pop.drop(['index'],axis=1)\n",
        "  \n",
        "  if(max(population['Fitness'])==1):\n",
        "    break\n",
        "\n",
        "  if(cnt%100==0):\n",
        "    print(max(population['Fitness']))\n",
        "  cnt+=1\n",
        "\n",
        "population=population.sort_values(by=['Fitness']).reset_index()\n",
        "population=population[-1:]\n",
        "print(population)"
      ],
      "execution_count": 0,
      "outputs": [],
          "name": "stdout"
        }
      ]
    }
  ]
}
